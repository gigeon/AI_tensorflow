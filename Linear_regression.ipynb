{
  "nbformat": 4,
  "nbformat_minor": 0,
  "metadata": {
    "colab": {
      "name": "Linear_regression.ipynb",
      "provenance": [],
      "collapsed_sections": [],
      "authorship_tag": "ABX9TyONTmkZwKLTAgXH45hDEKeS",
      "include_colab_link": true
    },
    "kernelspec": {
      "name": "python3",
      "display_name": "Python 3"
    },
    "language_info": {
      "name": "python"
    }
  },
  "cells": [
    {
      "cell_type": "markdown",
      "metadata": {
        "id": "view-in-github",
        "colab_type": "text"
      },
      "source": [
        "<a href=\"https://colab.research.google.com/github/gigeon/coding-study/blob/master/Linear_regression.ipynb\" target=\"_parent\"><img src=\"https://colab.research.google.com/assets/colab-badge.svg\" alt=\"Open In Colab\"/></a>"
      ]
    },
    {
      "cell_type": "code",
      "execution_count": 151,
      "metadata": {
        "colab": {
          "base_uri": "https://localhost:8080/"
        },
        "id": "lGKJ3uzEZlSV",
        "outputId": "451948d3-f0f2-48ac-d6fd-e1e83a24332c"
      },
      "outputs": [
        {
          "output_type": "stream",
          "name": "stdout",
          "text": [
            "2.8.0\n"
          ]
        }
      ],
      "source": [
        "import tensorflow as tf\n",
        "print(tf.__version__)"
      ]
    },
    {
      "cell_type": "code",
      "source": [
        "import numpy as np\n",
        "rng = np.random"
      ],
      "metadata": {
        "id": "auypl7ivbDIb"
      },
      "execution_count": 152,
      "outputs": []
    },
    {
      "cell_type": "code",
      "source": [
        "#파라메터 설정\n",
        "learning_rate = 0.001 #0.01씩 값 변환해 경사하강법시 답 구함\n",
        "training_steps = 1000 #1000번 시도\n",
        "display_step = 50 #결과 50마다 표현"
      ],
      "metadata": {
        "id": "DdtQP_RYbMeE"
      },
      "execution_count": 153,
      "outputs": []
    },
    {
      "cell_type": "code",
      "source": [
        "#학습\n",
        "x = np.array([16.4,16.8,17.6,18.6,19.0])\n",
        "y = np.array([15.7,16.0,16.5,17.3,18.0])\n",
        "n_samples = x.shape[0]"
      ],
      "metadata": {
        "id": "YUOc74a8beKu"
      },
      "execution_count": 154,
      "outputs": []
    },
    {
      "cell_type": "code",
      "source": [
        "#wb설정\n",
        "w = tf.Variable(rng.randn(), name='weight')\n",
        "b = tf.Variable(rng.randn(), name='bias')"
      ],
      "metadata": {
        "id": "l4oQFbmObub4"
      },
      "execution_count": 155,
      "outputs": []
    },
    {
      "cell_type": "code",
      "source": [
        "#Linear regression(wx+b)\n",
        "def linear_regression(x):\n",
        "  return w * x + b"
      ],
      "metadata": {
        "id": "3ejUC-DIcDVs"
      },
      "execution_count": 156,
      "outputs": []
    },
    {
      "cell_type": "code",
      "source": [
        "#coat\n",
        "\n",
        "def mean_square(y_pred, y_true):\n",
        "  return tf.reduce_sum(tf.pow(y_pred-y_true, 2)) / (2* n_samples)"
      ],
      "metadata": {
        "id": "3oDtguQ0caBo"
      },
      "execution_count": 157,
      "outputs": []
    },
    {
      "cell_type": "code",
      "source": [
        "#경사하강법\n",
        "optimizer = tf.optimizers.SGD(learning_rate)"
      ],
      "metadata": {
        "id": "-EGK1elxc12O"
      },
      "execution_count": 158,
      "outputs": []
    },
    {
      "cell_type": "code",
      "source": [
        "#optimizer\n",
        "def run_optimization():\n",
        "  #wrap computation inside a gradientape for automatic differentiation\n",
        "  with tf.GradientTape() as g:\n",
        "    pred = linear_regression(x)\n",
        "    loss = mean_square(pred, y)\n",
        "\n",
        "  gradients = g.gradient(loss,[w,b])\n",
        "\n",
        "  optimizer.apply_gradients(zip(gradients,[w,b]))\n"
      ],
      "metadata": {
        "id": "fE-xjSeXdClL"
      },
      "execution_count": 159,
      "outputs": []
    },
    {
      "cell_type": "code",
      "source": [
        "#학습\n",
        "for step in range(1, training_steps + 1):\n",
        "  #run the optimization to update w and b values\n",
        "  run_optimization()\n",
        "  if step % display_step == 0:\n",
        "    pred = linear_regression(x)\n",
        "    loss = mean_square(pred, y)\n",
        "    print(\"step: %i, loss: %f,w: %f, b: %f\" % (step, loss, w.numpy(), b.numpy()))"
      ],
      "metadata": {
        "colab": {
          "base_uri": "https://localhost:8080/"
        },
        "id": "Qv3lXj4LeFIH",
        "outputId": "da6258b8-f78e-4daa-a9d6-8076576777cf"
      },
      "execution_count": 160,
      "outputs": [
        {
          "output_type": "stream",
          "name": "stdout",
          "text": [
            "step: 50, loss: 0.010386,w: 0.885058, b: 1.049332\n",
            "step: 100, loss: 0.010386,w: 0.885050, b: 1.049475\n",
            "step: 150, loss: 0.010385,w: 0.885042, b: 1.049618\n",
            "step: 200, loss: 0.010385,w: 0.885034, b: 1.049761\n",
            "step: 250, loss: 0.010385,w: 0.885026, b: 1.049904\n",
            "step: 300, loss: 0.010384,w: 0.885017, b: 1.050047\n",
            "step: 350, loss: 0.010384,w: 0.885009, b: 1.050190\n",
            "step: 400, loss: 0.010383,w: 0.885001, b: 1.050333\n",
            "step: 450, loss: 0.010383,w: 0.884993, b: 1.050476\n",
            "step: 500, loss: 0.010383,w: 0.884985, b: 1.050619\n",
            "step: 550, loss: 0.010382,w: 0.884977, b: 1.050763\n",
            "step: 600, loss: 0.010382,w: 0.884969, b: 1.050906\n",
            "step: 650, loss: 0.010381,w: 0.884961, b: 1.051049\n",
            "step: 700, loss: 0.010381,w: 0.884953, b: 1.051192\n",
            "step: 750, loss: 0.010380,w: 0.884945, b: 1.051335\n",
            "step: 800, loss: 0.010380,w: 0.884937, b: 1.051478\n",
            "step: 850, loss: 0.010380,w: 0.884929, b: 1.051621\n",
            "step: 900, loss: 0.010379,w: 0.884921, b: 1.051764\n",
            "step: 950, loss: 0.010379,w: 0.884913, b: 1.051907\n",
            "step: 1000, loss: 0.010378,w: 0.884905, b: 1.052050\n"
          ]
        }
      ]
    },
    {
      "cell_type": "code",
      "source": [
        "import matplotlib.pyplot as plt\n",
        "plt.plot(x,y,'ro',label='original data')\n",
        "plt.plot(x, np.array(w*x+b), label='fitted line')\n",
        "plt.legend\n",
        "plt.show()"
      ],
      "metadata": {
        "colab": {
          "base_uri": "https://localhost:8080/",
          "height": 265
        },
        "id": "7dRLJs15cVTy",
        "outputId": "33f335ac-1b0d-446f-d55f-bc422d1864c9"
      },
      "execution_count": 161,
      "outputs": [
        {
          "output_type": "display_data",
          "data": {
            "text/plain": [
              "<Figure size 432x288 with 1 Axes>"
            ],
            "image/png": "[encoded data removed]"
          },
          "metadata": {
            "needs_background": "light"
          }
        }
      ]
    }
  ]
}